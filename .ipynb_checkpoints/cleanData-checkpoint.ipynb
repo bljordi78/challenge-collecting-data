{
 "cells": [
  {
   "cell_type": "markdown",
   "id": "084e838c-fb66-4127-8623-a0657fc6b964",
   "metadata": {},
   "source": [
    "# CHALLENGE COLLECTING DATA - IMMOVLAN\n",
    "## SECOND PART: CLEANING THE DATAFRAME"
   ]
  },
  {
   "cell_type": "markdown",
   "id": "616ce57f-8cb8-43f0-a060-215780d1909e",
   "metadata": {},
   "source": [
    "Due to the slow processing of the main.py module to scrape properties data, I run this notebook to clean the data results."
   ]
  },
  {
   "cell_type": "markdown",
   "id": "55a219a9-1bb8-4e60-bf98-ca33c327b293",
   "metadata": {},
   "source": [
    "### DATA COLLECTION"
   ]
  },
  {
   "cell_type": "code",
   "execution_count": null,
   "id": "adaab0c6-1379-447f-9a7f-cd57a9c27db7",
   "metadata": {},
   "outputs": [],
   "source": [
    "# Set the notebook to show all outputs in the cell\n",
    "from IPython.core.interactiveshell import InteractiveShell\n",
    "InteractiveShell.ast_node_interactivity = \"all\"\n",
    "\n",
    "import numpy as np\n",
    "import glob\n",
    "import os\n",
    "\n",
    "# Pandas options for data wrangling and output set-up \n",
    "import pandas as pd\n",
    "pd.set_option('display.max_columns', None) # display all columns\n",
    "pd.set_option('display.expand_frame_repr', False) # print all columns and in the same line\n",
    "pd.set_option('display.max_colwidth', None) # display the full content of each cell\n",
    "pd.set_option('display.float_format', lambda x: '%.3f' %x) # floats to be displayed with 3 decimal places"
   ]
  },
  {
   "cell_type": "code",
   "execution_count": null,
   "id": "648fd983-e825-440a-82b7-bcf17d9bc094",
   "metadata": {},
   "outputs": [],
   "source": [
    "# Concatenate all my batches (CSVs output)\n",
    "path = \"output\"\n",
    "df = pd.concat(map(pd.read_csv, glob.glob(os.path.join(path, \"immovlan_properties*.csv\"))), ignore_index= True)"
   ]
  },
  {
   "cell_type": "markdown",
   "id": "8173cdff-5831-4cb0-971f-c96e9185a101",
   "metadata": {},
   "source": [
    "### A LOOK TO THE RESULTS"
   ]
  },
  {
   "cell_type": "code",
   "execution_count": null,
   "id": "59860f46-5d44-45c3-b1ac-264b18f61e46",
   "metadata": {},
   "outputs": [],
   "source": [
    "df.shape"
   ]
  },
  {
   "cell_type": "markdown",
   "id": "6346fdeb-901e-4343-94e6-ebcfa0f940eb",
   "metadata": {},
   "source": [
    "As the target variable is Price, deleting records with missing price"
   ]
  },
  {
   "cell_type": "code",
   "execution_count": null,
   "id": "4d547bb7-a6a9-46b9-90fe-b0030a99b6e7",
   "metadata": {},
   "outputs": [],
   "source": [
    "df = df.dropna(subset = ['Prix'])"
   ]
  },
  {
   "cell_type": "markdown",
   "id": "f8b4a702-8525-43eb-b1ea-0fdd91f093aa",
   "metadata": {},
   "source": [
    "Also deleting duplicates based on Ref column"
   ]
  },
  {
   "cell_type": "code",
   "execution_count": null,
   "id": "075365cc-6eae-4c00-a109-2f5fbf864a8b",
   "metadata": {},
   "outputs": [],
   "source": [
    "df = df.drop_duplicates(subset=[\"Ref\"])"
   ]
  },
  {
   "cell_type": "markdown",
   "id": "d4ae5f84-cb52-4efd-9319-24436022160f",
   "metadata": {},
   "source": [
    "There are 121 columns.  \n",
    "My scraping is taking all tags in the html structure of each page.  \n",
    "While working in the scraping, I noticed some of the tags were hardly used in the website.  \n",
    "--> remove all columns with over 50% NAs"
   ]
  },
  {
   "cell_type": "code",
   "execution_count": null,
   "id": "71e151d2-fa65-4874-ac21-c046b9d2fd51",
   "metadata": {},
   "outputs": [],
   "source": [
    "# percentage of NA per column\n",
    "naPct = df.isnull().sum()/df.shape[0]*100\n",
    "\n",
    "# list of columns over 50% NAs\n",
    "col_to_drop = naPct[naPct>50].keys()\n",
    "df = df.drop(col_to_drop, axis=1)\n",
    "\n",
    "# dropping as well any records that may have all NAs\n",
    "df = df.dropna(how='all')\n"
   ]
  },
  {
   "cell_type": "code",
   "execution_count": null,
   "id": "5aa6d1b2-3469-4a67-ae00-87a5db8fc970",
   "metadata": {},
   "outputs": [],
   "source": [
    "df.shape"
   ]
  },
  {
   "cell_type": "markdown",
   "id": "9c9cc12c-69d2-4de1-a8f4-206671cac89c",
   "metadata": {},
   "source": [
    "This looks much better..."
   ]
  },
  {
   "cell_type": "markdown",
   "id": "51b616bf-d876-4135-8937-55c9a051c0c5",
   "metadata": {},
   "source": [
    "### TRANSFORMING THE DATA"
   ]
  },
  {
   "cell_type": "code",
   "execution_count": null,
   "id": "f7a0349f-4b95-43c6-b044-0c3e0a0bcd82",
   "metadata": {},
   "outputs": [],
   "source": [
    "df.info()"
   ]
  },
  {
   "cell_type": "code",
   "execution_count": null,
   "id": "d4b8234e-b219-4b45-90f5-138c2903bc54",
   "metadata": {},
   "outputs": [],
   "source": [
    "# Differentiate numerical and categorical cols\n",
    "numeric_cols = df.select_dtypes(include=np.number).columns\n",
    "numeric_cols\n",
    "\n",
    "categoric_cols = df.select_dtypes(exclude=np.number).columns\n",
    "categoric_cols"
   ]
  },
  {
   "cell_type": "code",
   "execution_count": null,
   "id": "ee0ec74b-fbdc-4b7d-8952-fa5f9817f44d",
   "metadata": {},
   "outputs": [],
   "source": [
    "def MemOptimisation(df):\n",
    "    \"\"\"\n",
    "    By default pandas assign data types that consume a lot of memory.\n",
    "    Also category data type handles much better categorical variables than object\n",
    "    Also numerical variable seem to be Integers\n",
    "    \"\"\"\n",
    "    print(f\"\\nAmount of memory used by all attributes: {df.memory_usage(deep=True).sum()}\\n\")\n",
    "    \n",
    "    # Optimise memory usage\n",
    "    for i in categoric_cols:\n",
    "        df[i] = df[i].astype('category')\n",
    "    for i in numeric_cols:\n",
    "        df[i] = df[i].astype('Int32')\n",
    "\n",
    "    print(df.info(memory_usage='deep'))\n",
    "    print(\"\\nAmount of memory used now by all attributes: \",df.memory_usage(deep=True).sum())"
   ]
  },
  {
   "cell_type": "code",
   "execution_count": null,
   "id": "b338af27-9d03-41a2-961d-8a46923605df",
   "metadata": {},
   "outputs": [],
   "source": [
    "MemOptimisation(df)"
   ]
  },
  {
   "cell_type": "markdown",
   "id": "fdfa523b-ec70-4c39-8870-8fa633e258ec",
   "metadata": {},
   "source": [
    "Let's have a look at the variables"
   ]
  },
  {
   "cell_type": "code",
   "execution_count": null,
   "id": "716ac92e-b56b-441a-97ed-4edb95f4cdfb",
   "metadata": {},
   "outputs": [],
   "source": [
    "df[numeric_cols].head()"
   ]
  },
  {
   "cell_type": "markdown",
   "id": "64679794-94c1-4e31-a557-46b7666f36ee",
   "metadata": {},
   "source": [
    "All numeric variables seems to be correct and relevant for the goal of the project"
   ]
  },
  {
   "cell_type": "code",
   "execution_count": null,
   "id": "24e3a1c6-3228-4a55-bd28-5c8f92309bd2",
   "metadata": {},
   "outputs": [],
   "source": [
    "df[categoric_cols].head()"
   ]
  },
  {
   "cell_type": "code",
   "execution_count": null,
   "id": "5b0e755e-cb9d-4114-8dec-0cf0d1ab9c16",
   "metadata": {},
   "outputs": [],
   "source": [
    "# Remove 'à vendre' from the values and rename the column to Type_du_bien\n",
    "df['Titre'] = df['Titre'].str.replace('à vendre', '', regex=False).str.strip()\n",
    "df = df.rename(columns={'Titre': 'Type_du_bien'})"
   ]
  },
  {
   "cell_type": "code",
   "execution_count": null,
   "id": "6be858dd-1ba4-49e3-854f-8ff20aba5b75",
   "metadata": {},
   "outputs": [],
   "source": [
    "# Split column localite into zip and localite\n",
    "df['Zip'] = df['ad_link'].str.extract(r'/a-vendre/(\\d{4})/')[0]\n",
    "df['Localite'] = df['ad_link'].str.extract(r'/a-vendre/\\d{4}/([^/]+)/')[0].str.capitalize()"
   ]
  },
  {
   "cell_type": "markdown",
   "id": "26c24d78-1334-474b-81d5-c7af191f9c24",
   "metadata": {},
   "source": [
    "Confirm that below columns are binary (Oui/Non) and then transform them"
   ]
  },
  {
   "cell_type": "code",
   "execution_count": null,
   "id": "1da6a1dc-20ae-44f4-9d61-5ca8c7016b79",
   "metadata": {},
   "outputs": [],
   "source": [
    "cols = ['Meublé', 'Caves', 'Ascenseur', 'Raccordé_à_leau_courante','Terrasse_aménagée', 'Grenier', 'Jardin']\n",
    "for c in cols:\n",
    "    df[c].value_counts()"
   ]
  },
  {
   "cell_type": "code",
   "execution_count": null,
   "id": "7ed6ac5d-9f11-4a44-8d13-5cd44d56e2a0",
   "metadata": {},
   "outputs": [],
   "source": [
    "for c in cols:\n",
    "    df[c] = df[c].map({'Oui': 1, 'Non': 0})"
   ]
  },
  {
   "cell_type": "markdown",
   "id": "efbf323b-b02e-44a9-a2aa-cbc35bd074a2",
   "metadata": {},
   "source": [
    "### FINAL DATAFRAME"
   ]
  },
  {
   "cell_type": "code",
   "execution_count": null,
   "id": "395b4fa9-00a6-409c-a47e-183a2485fb04",
   "metadata": {},
   "outputs": [],
   "source": [
    "df.head()"
   ]
  },
  {
   "cell_type": "code",
   "execution_count": null,
   "id": "51a60277-184a-408c-8bd3-ad86ae20c0ce",
   "metadata": {},
   "outputs": [],
   "source": [
    "df.shape"
   ]
  },
  {
   "cell_type": "code",
   "execution_count": null,
   "id": "6d2057e2-ecd0-40aa-ba3a-10b7d3bcd3d4",
   "metadata": {},
   "outputs": [],
   "source": [
    "df.info()"
   ]
  },
  {
   "cell_type": "markdown",
   "id": "98db902e-a3de-48e8-a602-036b381b2234",
   "metadata": {},
   "source": [
    "The final dataframe shows:\n",
    "- 14806 records\n",
    "- 27 variables"
   ]
  },
  {
   "cell_type": "code",
   "execution_count": null,
   "id": "9d8b08a3-ecbe-4948-9613-6774d5f55fb3",
   "metadata": {},
   "outputs": [],
   "source": [
    "# Saving the dataframe as immovlan_properties_FINAL.csv\n",
    "file_name = f\"immovlan_properties_FINAL.csv\"\n",
    "df.to_csv(file_name, index=False, encoding=\"utf-8-sig\")"
   ]
  }
 ],
 "metadata": {
  "kernelspec": {
   "display_name": "Python 3 (ipykernel)",
   "language": "python",
   "name": "python3"
  },
  "language_info": {
   "codemirror_mode": {
    "name": "ipython",
    "version": 3
   },
   "file_extension": ".py",
   "mimetype": "text/x-python",
   "name": "python",
   "nbconvert_exporter": "python",
   "pygments_lexer": "ipython3",
   "version": "3.11.7"
  }
 },
 "nbformat": 4,
 "nbformat_minor": 5
}
