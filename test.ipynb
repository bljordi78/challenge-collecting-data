{
 "cells": [
  {
   "cell_type": "code",
   "execution_count": null,
   "id": "6b0bdadd",
   "metadata": {},
   "outputs": [],
   "source": [
    "from concurrent.futures import ThreadPoolExecutor\n",
    "import requests\n",
    "from bs4 import BeautifulSoup\n",
    "import pandas as pd\n",
    "import time\n",
    "import re"
   ]
  },
  {
   "cell_type": "code",
   "execution_count": null,
   "id": "2158beba",
   "metadata": {},
   "outputs": [],
   "source": [
    "\"\"\"\n",
    "        Get the list of base URLs after applying the filter.\n",
    "      \n",
    "        Returns:\n",
    "        - list: List of base URLs.\n",
    "\"\"\"\n",
    "base_urls_list = []\n",
    "for i in range(1, 10):\n",
    "    base_url_house = f\"https://www.immoweb.be/en/search/house/for-sale?countries=BE&isALifeAnnuitySale=false&page={i}&orderBy=relevance\"\n",
    "    base_url_apartment = f\"https://www.immoweb.be/en/search/apartment/for-sale?countries=BE&isALifeAnnuitySale=false&page={i}&orderBy=relevance\"\n",
    "    base_urls_list.append(base_url_house)\n",
    "    base_urls_list.append(base_url_apartment)\n",
    "    print(f'Number of Base URLs generated: {len(base_urls_list)}')\n",
    "    print(list(set(base_urls_list)))\n"
   ]
  },
  {
   "cell_type": "code",
   "execution_count": null,
   "id": "2150cc54",
   "metadata": {},
   "outputs": [],
   "source": [
    "#get_immoweb_urls_thread(self):\n",
    "    \n",
    "self.base_urls_list = self.get_base_urls()\n",
    "with ThreadPoolExecutor(max_workers=9) as executor:\n",
    "    print('Generating urls')\n",
    "    results = executor.map(lambda url: self.get_immoweb_url(url), self.base_urls_list)\n",
    "    for result in results:\n",
    "        print(result)\n",
    "        self.immoweb_urls_list.extend(result)\n",
    "self.immoweb_urls_list"
   ]
  },
  {
   "cell_type": "code",
   "execution_count": null,
   "id": "b3f44fc9",
   "metadata": {},
   "outputs": [],
   "source": [
    "\"\"\"\n",
    "        Gets the list of Immoweb URLs from each page of base URLs.\n",
    "\n",
    "        Args:\n",
    "        - url (str): Base URL to scrape.\n",
    "\n",
    "        Returns:\n",
    "        - list: List of Immoweb URLs.\n",
    "\"\"\"\n",
    "\n",
    "try:\n",
    "    url_content = requests.get(url).content  # Fetch content of the URL\n",
    "except requests.exceptions.RequestException as e:\n",
    "    print(f\"Error accessing {url}: {e}\")\n",
    "    return []\n",
    "\n",
    "lst = []\n",
    "soup = BeautifulSoup(url_content, \"lxml\")\n",
    "for tag in soup.find_all(\"a\", attrs={\"class\": \"card__title-link\"}):\n",
    "    immoweb_url = tag.get(\"href\")\n",
    "    if \"www.immoweb.be\" in immoweb_url and \"new-real-estate-project\" not in immoweb_url:\n",
    "        lst.append(immoweb_url)\n",
    "\n",
    "        # Ensure only unique URLs are returned\n",
    "return list(set(lst))\n"
   ]
  },
  {
   "cell_type": "code",
   "execution_count": null,
   "id": "5e6f86ae",
   "metadata": {},
   "outputs": [],
   "source": [
    "from selenium.webdriver.chrome.options import Options\n",
    "\n",
    "    # Configure driver\n",
    "    options = Options()\n",
    "    options.add_argument(\"--headless=new\")\n",
    "    options.add_argument(\"--disable-gpu\")\n",
    "    options.add_argument(\"--window-size=1920,1080\")\n",
    "    options.add_argument(\"--disable-notifications\")\n",
    "    options.add_argument(\"--no-sandbox\")\n",
    "    options.add_argument(\"--disable-dev-shm-usage\")\n",
    "    options.add_argument(\"--disable-blink-features=AutomationControlled\")\n",
    "    options.add_experimental_option(\"excludeSwitches\", [\"enable-automation\"])\n",
    "    options.add_experimental_option(\"useAutomationExtension\", False)\n",
    "    options.add_argument(\"user-agent=Mozilla/5.0 (Windows NT 10.0; Win64; x64) AppleWebKit/537.36 (KHTML, like Gecko) Chrome/115.0.0.0 Safari/537.36\")"
   ]
  }
 ],
 "metadata": {
  "kernelspec": {
   "display_name": "Python 3",
   "language": "python",
   "name": "python3"
  },
  "language_info": {
   "codemirror_mode": {
    "name": "ipython",
    "version": 3
   },
   "file_extension": ".py",
   "mimetype": "text/x-python",
   "name": "python",
   "nbconvert_exporter": "python",
   "pygments_lexer": "ipython3",
   "version": "3.13.3"
  }
 },
 "nbformat": 4,
 "nbformat_minor": 5
}
