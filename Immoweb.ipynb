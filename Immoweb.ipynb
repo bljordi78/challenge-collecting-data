{
 "cells": [
  {
   "cell_type": "code",
   "execution_count": null,
   "id": "d875dd62",
   "metadata": {},
   "outputs": [],
   "source": [
    "# Import necessary libraries to run the code\n",
    "import requests\n",
    "from bs4 import BeautifulSoup\n",
    "import pandas as pd\n",
    "\n",
    "from selenium import webdriver\n",
    "from selenium.webdriver import Chrome\n",
    "from selenium.webdriver.common.by import By\n",
    "from selenium.webdriver.common.keys import Keys\n",
    "from selenium.webdriver.support.ui import WebDriverWait\n",
    "from selenium.webdriver.support import expected_conditions as EC"
   ]
  },
  {
   "cell_type": "code",
   "execution_count": 5,
   "id": "4324a9df",
   "metadata": {},
   "outputs": [
    {
     "name": "stdout",
     "output_type": "stream",
     "text": [
      "Could not find or click the button: Message: \n",
      "Stacktrace:\n",
      "\tGetHandleVerifier [0x0x7ff62815fe75+79173]\n",
      "\tGetHandleVerifier [0x0x7ff62815fed0+79264]\n",
      "\t(No symbol) [0x0x7ff627f19e5a]\n",
      "\t(No symbol) [0x0x7ff627f70586]\n",
      "\t(No symbol) [0x0x7ff627f7083c]\n",
      "\t(No symbol) [0x0x7ff627fc4247]\n",
      "\t(No symbol) [0x0x7ff627f989af]\n",
      "\t(No symbol) [0x0x7ff627fc100d]\n",
      "\t(No symbol) [0x0x7ff627f98743]\n",
      "\t(No symbol) [0x0x7ff627f614c1]\n",
      "\t(No symbol) [0x0x7ff627f62253]\n",
      "\tGetHandleVerifier [0x0x7ff62842a2ad+3004797]\n",
      "\tGetHandleVerifier [0x0x7ff6284246fd+2981325]\n",
      "\tGetHandleVerifier [0x0x7ff628443350+3107360]\n",
      "\tGetHandleVerifier [0x0x7ff62817a9fe+188622]\n",
      "\tGetHandleVerifier [0x0x7ff62818228f+219487]\n",
      "\tGetHandleVerifier [0x0x7ff628168dc4+115860]\n",
      "\tGetHandleVerifier [0x0x7ff628168f79+116297]\n",
      "\tGetHandleVerifier [0x0x7ff62814f528+11256]\n",
      "\tBaseThreadInitThunk [0x0x7ffb8208e8d7+23]\n",
      "\tRtlUserThreadStart [0x0x7ffb82adc34c+44]\n",
      "\n"
     ]
    }
   ],
   "source": [
    "driver = webdriver.Chrome()\n",
    "#driver.get('https://www.immoweb.be/en/search/house-and-apartment/for-sale?countries=BE&page=2&orderBy=relevance')\n",
    "driver.get('https://www.immoweb.be/en/advanced-search/house/for-sale?countries=BE&page=1&orderBy=relevance')\n",
    "\n",
    "\n",
    "# Wait for the button to be clickable and click it\n",
    "\n",
    "\"\"\"\n",
    "<button role=\"button\" data-testid=\"uc-accept-all-button\" class=\"sc-dcJsrY liDFoy\" style=\"margin: 0px 6px;\">OK</button>\n",
    "\"\"\"\n",
    "\n",
    "try:\n",
    "    agree_button = WebDriverWait(driver, 10).until(\n",
    "        EC.element_to_be_clickable((By.XPATH, '//*[@id=\"didomi-notice-agree-button\"]/span'))\n",
    "    )\n",
    "    url = agree_button.click()\n",
    "except Exception as e:\n",
    "    print(\"Could not find or click the button:\", e)\n"
   ]
  },
  {
   "cell_type": "code",
   "execution_count": null,
   "id": "520a9bda",
   "metadata": {},
   "outputs": [],
   "source": [
    "#url = 'https://www.immoweb.be/en/search/house-and-apartment/for-sale?countries=BE&page=1&orderBy=relevance'\n",
    "\n",
    "html = driver.page_source\n",
    "soup = BeautifulSoup(html, \"lxml\")\n",
    "print(soup.prettify())"
   ]
  },
  {
   "cell_type": "code",
   "execution_count": null,
   "id": "8e740574",
   "metadata": {},
   "outputs": [],
   "source": [
    "list = []\n",
    "for a in soup.find_all('a', href=True):\n",
    "    if '/detail/' in a['href']:       \n",
    "        list.append(a['href']) if a['href'] not in list else list\n",
    "\n",
    "list"
   ]
  },
  {
   "cell_type": "code",
   "execution_count": 6,
   "id": "0754d6ee",
   "metadata": {},
   "outputs": [
    {
     "name": "stdout",
     "output_type": "stream",
     "text": [
      "Waiting for the cookie consent button...\n",
      "Cookie consent pop-up did not appear or the 'OK' button was not found within the given time.\n",
      "Current URL after clicking: https://www.immoweb.be/en/advanced-search/house/for-sale?countries=BE&page=1&orderBy=relevance\n"
     ]
    }
   ],
   "source": [
    "from selenium import webdriver\n",
    "from selenium.webdriver.common.by import By\n",
    "from selenium.webdriver.support.ui import WebDriverWait\n",
    "from selenium.webdriver.support import expected_conditions as EC\n",
    "from selenium.common.exceptions import TimeoutException\n",
    "\n",
    "# Initialize the WebDriver\n",
    "# Make sure you have the appropriate WebDriver (e.g., ChromeDriver) installed\n",
    "# and its path is correctly configured or the executable is in your system's PATH.\n",
    "driver = webdriver.Chrome()\n",
    "\n",
    "url = \"https://www.immoweb.be/en/advanced-search/house/for-sale?countries=BE&page=1&orderBy=relevance\"\n",
    "driver.get(url)\n",
    "\n",
    "try:\n",
    "    # Wait for the button to be clickable using its data-testid attribute\n",
    "    # The 'data-testid' is a very stable and reliable attribute for targeting elements.\n",
    "    print(\"Waiting for the cookie consent button...\")\n",
    "    cookie_button = WebDriverWait(driver, 10).until(\n",
    "        EC.element_to_be_clickable((By.CSS_SELECTOR, '[data-testid=\"uc-accept-all-button\"]'))\n",
    "    )\n",
    "\n",
    "    # Click the button\n",
    "    cookie_button.click()\n",
    "    print(\"Clicked the 'OK' cookie consent button.\")\n",
    "\n",
    "except TimeoutException:\n",
    "    print(\"Cookie consent pop-up did not appear or the 'OK' button was not found within the given time.\")\n",
    "except Exception as e:\n",
    "    print(f\"An error occurred: {e}\")\n",
    "\n",
    "# Now you can proceed with other actions on the page after accepting cookies\n",
    "# For example, getting the current URL after the click:\n",
    "print(f\"Current URL after clicking: {driver.current_url}\")\n",
    "\n",
    "# You can also take a screenshot to confirm it worked\n",
    "# driver.save_screenshot(\"after_cookie_accept.png\")\n",
    "\n",
    "# Don't forget to close the browser when you're done\n",
    "driver.quit()"
   ]
  }
 ],
 "metadata": {
  "kernelspec": {
   "display_name": "Python 3",
   "language": "python",
   "name": "python3"
  },
  "language_info": {
   "codemirror_mode": {
    "name": "ipython",
    "version": 3
   },
   "file_extension": ".py",
   "mimetype": "text/x-python",
   "name": "python",
   "nbconvert_exporter": "python",
   "pygments_lexer": "ipython3",
   "version": "3.13.3"
  }
 },
 "nbformat": 4,
 "nbformat_minor": 5
}
