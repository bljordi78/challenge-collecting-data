{
 "cells": [
  {
   "cell_type": "markdown",
   "id": "084e838c-fb66-4127-8623-a0657fc6b964",
   "metadata": {},
   "source": [
    "# CHALLENGE COLLECTING DATA - IMMOVLAN\n",
    "## SECOND PART: CLEANING THE DATAFRAME"
   ]
  },
  {
   "cell_type": "markdown",
   "id": "616ce57f-8cb8-43f0-a060-215780d1909e",
   "metadata": {},
   "source": [
    "Due to the slow processing of the main.py module to scrape properties data, I run this notebook to clean the data results."
   ]
  },
  {
   "cell_type": "markdown",
   "id": "55a219a9-1bb8-4e60-bf98-ca33c327b293",
   "metadata": {},
   "source": [
    "### DATA COLLECTION"
   ]
  },
  {
   "cell_type": "code",
   "execution_count": 1,
   "id": "adaab0c6-1379-447f-9a7f-cd57a9c27db7",
   "metadata": {},
   "outputs": [],
   "source": [
    "# Set the notebook to show all outputs in the cell\n",
    "from IPython.core.interactiveshell import InteractiveShell\n",
    "InteractiveShell.ast_node_interactivity = \"all\"\n",
    "\n",
    "import numpy as np\n",
    "import glob\n",
    "import os\n",
    "\n",
    "# Pandas options for data wrangling and output set-up \n",
    "import pandas as pd\n",
    "pd.set_option('display.max_columns', None) # display all columns\n",
    "pd.set_option('display.expand_frame_repr', False) # print all columns and in the same line\n",
    "pd.set_option('display.max_colwidth', None) # display the full content of each cell\n",
    "pd.set_option('display.float_format', lambda x: '%.3f' %x) # floats to be displayed with 3 decimal places"
   ]
  },
  {
   "cell_type": "code",
   "execution_count": 2,
   "id": "648fd983-e825-440a-82b7-bcf17d9bc094",
   "metadata": {},
   "outputs": [],
   "source": [
    "# Concatenate all my batches (CSVs output)\n",
    "path = \"output\"\n",
    "df = pd.concat(map(pd.read_csv, glob.glob(os.path.join(path, \"immovlan_properties*.csv\"))), ignore_index= True)"
   ]
  },
  {
   "cell_type": "markdown",
   "id": "8173cdff-5831-4cb0-971f-c96e9185a101",
   "metadata": {},
   "source": [
    "### A LOOK TO THE RESULTS"
   ]
  },
  {
   "cell_type": "code",
   "execution_count": 3,
   "id": "59860f46-5d44-45c3-b1ac-264b18f61e46",
   "metadata": {},
   "outputs": [
    {
     "data": {
      "text/plain": [
       "(35325, 122)"
      ]
     },
     "execution_count": 3,
     "metadata": {},
     "output_type": "execute_result"
    }
   ],
   "source": [
    "df.shape"
   ]
  },
  {
   "cell_type": "markdown",
   "id": "6346fdeb-901e-4343-94e6-ebcfa0f940eb",
   "metadata": {},
   "source": [
    "As the target variable is Price, deleting records with missing price"
   ]
  },
  {
   "cell_type": "code",
   "execution_count": 4,
   "id": "4d547bb7-a6a9-46b9-90fe-b0030a99b6e7",
   "metadata": {},
   "outputs": [],
   "source": [
    "df = df.dropna(subset = ['Prix'])"
   ]
  },
  {
   "cell_type": "markdown",
   "id": "f8b4a702-8525-43eb-b1ea-0fdd91f093aa",
   "metadata": {},
   "source": [
    "Also deleting duplicates based on Ref column"
   ]
  },
  {
   "cell_type": "code",
   "execution_count": 5,
   "id": "075365cc-6eae-4c00-a109-2f5fbf864a8b",
   "metadata": {},
   "outputs": [],
   "source": [
    "df = df.drop_duplicates(subset=[\"Ref\"])"
   ]
  },
  {
   "cell_type": "markdown",
   "id": "d4ae5f84-cb52-4efd-9319-24436022160f",
   "metadata": {},
   "source": [
    "There are 121 columns.  \n",
    "My scraping is taking all tags in the html structure of each page.  \n",
    "While working in the scraping, I noticed some of the tags were hardly used in the website.  \n",
    "--> remove all columns with over 50% NAs"
   ]
  },
  {
   "cell_type": "code",
   "execution_count": 6,
   "id": "71e151d2-fa65-4874-ac21-c046b9d2fd51",
   "metadata": {},
   "outputs": [],
   "source": [
    "# percentage of NA per column\n",
    "naPct = df.isnull().sum()/df.shape[0]*100\n",
    "\n",
    "# list of columns over 50% NAs\n",
    "col_to_drop = naPct[naPct>50].keys()\n",
    "df = df.drop(col_to_drop, axis=1)\n",
    "\n",
    "# dropping as well any records that may have all NAs\n",
    "df = df.dropna(how='all')\n"
   ]
  },
  {
   "cell_type": "code",
   "execution_count": 7,
   "id": "5aa6d1b2-3469-4a67-ae00-87a5db8fc970",
   "metadata": {},
   "outputs": [
    {
     "data": {
      "text/plain": [
       "(16686, 26)"
      ]
     },
     "execution_count": 7,
     "metadata": {},
     "output_type": "execute_result"
    }
   ],
   "source": [
    "df.shape"
   ]
  },
  {
   "cell_type": "markdown",
   "id": "9c9cc12c-69d2-4de1-a8f4-206671cac89c",
   "metadata": {},
   "source": [
    "This looks much better..."
   ]
  },
  {
   "cell_type": "markdown",
   "id": "51b616bf-d876-4135-8937-55c9a051c0c5",
   "metadata": {},
   "source": [
    "### TRANSFORMING THE DATA"
   ]
  },
  {
   "cell_type": "code",
   "execution_count": 8,
   "id": "f7a0349f-4b95-43c6-b044-0c3e0a0bcd82",
   "metadata": {},
   "outputs": [
    {
     "name": "stdout",
     "output_type": "stream",
     "text": [
      "<class 'pandas.core.frame.DataFrame'>\n",
      "Index: 16686 entries, 0 to 35311\n",
      "Data columns (total 26 columns):\n",
      " #   Column                                Non-Null Count  Dtype  \n",
      "---  ------                                --------------  -----  \n",
      " 0   ad_link                               16686 non-null  object \n",
      " 1   Ref                                   16686 non-null  object \n",
      " 2   Titre                                 16686 non-null  object \n",
      " 3   Prix                                  16686 non-null  float64\n",
      " 4   Addresse                              13419 non-null  object \n",
      " 5   Localite                              16678 non-null  object \n",
      " 6   Etat_du_bien                          12724 non-null  object \n",
      " 7   Année_de_construction                 10276 non-null  float64\n",
      " 8   Nombre_de_chambres_à_coucher          16340 non-null  float64\n",
      " 9   Surface_habitable                     15497 non-null  object \n",
      " 10  Meublé                                9350 non-null   object \n",
      " 11  Caves                                 9559 non-null   object \n",
      " 12  Nombre_de_salles_de_bain              14623 non-null  float64\n",
      " 13  Nombre_de_toilettes                   11324 non-null  float64\n",
      " 14  Type_de_chauffage                     11945 non-null  object \n",
      " 15  Ascenseur                             12033 non-null  object \n",
      " 16  Nombre_de_façades                     12328 non-null  float64\n",
      " 17  Raccordé_à_leau_courante              8517 non-null   object \n",
      " 18  Conso_spécifique_dénergie_primaire    12906 non-null  object \n",
      " 19  Attestation__Installation_électrique  12261 non-null  object \n",
      " 20  Type_de_zone_inondable                16686 non-null  object \n",
      " 21  Zone_inondable_délimitée              16686 non-null  object \n",
      " 22  Terrasse_aménagée                     12333 non-null  object \n",
      " 23  Grenier                               9355 non-null   object \n",
      " 24  Surface_totale_du_terrain             8672 non-null   object \n",
      " 25  Jardin                                10295 non-null  object \n",
      "dtypes: float64(6), object(20)\n",
      "memory usage: 3.4+ MB\n"
     ]
    }
   ],
   "source": [
    "df.info()"
   ]
  },
  {
   "cell_type": "code",
   "execution_count": 9,
   "id": "d4b8234e-b219-4b45-90f5-138c2903bc54",
   "metadata": {},
   "outputs": [
    {
     "data": {
      "text/plain": [
       "Index(['Prix', 'Année_de_construction', 'Nombre_de_chambres_à_coucher',\n",
       "       'Nombre_de_salles_de_bain', 'Nombre_de_toilettes', 'Nombre_de_façades'],\n",
       "      dtype='object')"
      ]
     },
     "execution_count": 9,
     "metadata": {},
     "output_type": "execute_result"
    },
    {
     "data": {
      "text/plain": [
       "Index(['ad_link', 'Ref', 'Titre', 'Addresse', 'Localite', 'Etat_du_bien',\n",
       "       'Surface_habitable', 'Meublé', 'Caves', 'Type_de_chauffage',\n",
       "       'Ascenseur', 'Raccordé_à_leau_courante',\n",
       "       'Conso_spécifique_dénergie_primaire',\n",
       "       'Attestation__Installation_électrique', 'Type_de_zone_inondable',\n",
       "       'Zone_inondable_délimitée', 'Terrasse_aménagée', 'Grenier',\n",
       "       'Surface_totale_du_terrain', 'Jardin'],\n",
       "      dtype='object')"
      ]
     },
     "execution_count": 9,
     "metadata": {},
     "output_type": "execute_result"
    }
   ],
   "source": [
    "# Differentiate numerical and categorical cols\n",
    "numeric_cols = df.select_dtypes(include=np.number).columns\n",
    "numeric_cols\n",
    "\n",
    "categoric_cols = df.select_dtypes(exclude=np.number).columns\n",
    "categoric_cols"
   ]
  },
  {
   "cell_type": "code",
   "execution_count": 10,
   "id": "ee0ec74b-fbdc-4b7d-8952-fa5f9817f44d",
   "metadata": {},
   "outputs": [],
   "source": [
    "def MemOptimisation(df):\n",
    "    \"\"\"\n",
    "    By default pandas assign data types that consume a lot of memory.\n",
    "    Also category data type handles much better categorical variables than object\n",
    "    Also numerical variable seem to be Integers\n",
    "    \"\"\"\n",
    "    print(f\"\\nAmount of memory used by all attributes: {df.memory_usage(deep=True).sum()}\\n\")\n",
    "    \n",
    "    # Optimise memory usage\n",
    "    for i in categoric_cols:\n",
    "        df[i] = df[i].astype('category')\n",
    "    for i in numeric_cols:\n",
    "        df[i] = df[i].astype('Int32')\n",
    "\n",
    "    print(df.info(memory_usage='deep'))\n",
    "    print(\"\\nAmount of memory used now by all attributes: \",df.memory_usage(deep=True).sum())"
   ]
  },
  {
   "cell_type": "code",
   "execution_count": 11,
   "id": "b338af27-9d03-41a2-961d-8a46923605df",
   "metadata": {},
   "outputs": [
    {
     "name": "stdout",
     "output_type": "stream",
     "text": [
      "\n",
      "Amount of memory used by all attributes: 21719011\n",
      "\n",
      "<class 'pandas.core.frame.DataFrame'>\n",
      "Index: 16686 entries, 0 to 35311\n",
      "Data columns (total 26 columns):\n",
      " #   Column                                Non-Null Count  Dtype   \n",
      "---  ------                                --------------  -----   \n",
      " 0   ad_link                               16686 non-null  category\n",
      " 1   Ref                                   16686 non-null  category\n",
      " 2   Titre                                 16686 non-null  category\n",
      " 3   Prix                                  16686 non-null  Int32   \n",
      " 4   Addresse                              13419 non-null  category\n",
      " 5   Localite                              16678 non-null  category\n",
      " 6   Etat_du_bien                          12724 non-null  category\n",
      " 7   Année_de_construction                 10276 non-null  Int32   \n",
      " 8   Nombre_de_chambres_à_coucher          16340 non-null  Int32   \n",
      " 9   Surface_habitable                     15497 non-null  category\n",
      " 10  Meublé                                9350 non-null   category\n",
      " 11  Caves                                 9559 non-null   category\n",
      " 12  Nombre_de_salles_de_bain              14623 non-null  Int32   \n",
      " 13  Nombre_de_toilettes                   11324 non-null  Int32   \n",
      " 14  Type_de_chauffage                     11945 non-null  category\n",
      " 15  Ascenseur                             12033 non-null  category\n",
      " 16  Nombre_de_façades                     12328 non-null  Int32   \n",
      " 17  Raccordé_à_leau_courante              8517 non-null   category\n",
      " 18  Conso_spécifique_dénergie_primaire    12906 non-null  category\n",
      " 19  Attestation__Installation_électrique  12261 non-null  category\n",
      " 20  Type_de_zone_inondable                16686 non-null  category\n",
      " 21  Zone_inondable_délimitée              16686 non-null  category\n",
      " 22  Terrasse_aménagée                     12333 non-null  category\n",
      " 23  Grenier                               9355 non-null   category\n",
      " 24  Surface_totale_du_terrain             8672 non-null   category\n",
      " 25  Jardin                                10295 non-null  category\n",
      "dtypes: Int32(6), category(20)\n",
      "memory usage: 6.4 MB\n",
      "None\n",
      "\n",
      "Amount of memory used now by all attributes:  6709300\n"
     ]
    }
   ],
   "source": [
    "MemOptimisation(df)"
   ]
  },
  {
   "cell_type": "markdown",
   "id": "fdfa523b-ec70-4c39-8870-8fa633e258ec",
   "metadata": {},
   "source": [
    "Let's have a look at the variables"
   ]
  },
  {
   "cell_type": "code",
   "execution_count": 12,
   "id": "716ac92e-b56b-441a-97ed-4edb95f4cdfb",
   "metadata": {},
   "outputs": [
    {
     "data": {
      "text/html": [
       "<div>\n",
       "<style scoped>\n",
       "    .dataframe tbody tr th:only-of-type {\n",
       "        vertical-align: middle;\n",
       "    }\n",
       "\n",
       "    .dataframe tbody tr th {\n",
       "        vertical-align: top;\n",
       "    }\n",
       "\n",
       "    .dataframe thead th {\n",
       "        text-align: right;\n",
       "    }\n",
       "</style>\n",
       "<table border=\"1\" class=\"dataframe\">\n",
       "  <thead>\n",
       "    <tr style=\"text-align: right;\">\n",
       "      <th></th>\n",
       "      <th>Prix</th>\n",
       "      <th>Année_de_construction</th>\n",
       "      <th>Nombre_de_chambres_à_coucher</th>\n",
       "      <th>Nombre_de_salles_de_bain</th>\n",
       "      <th>Nombre_de_toilettes</th>\n",
       "      <th>Nombre_de_façades</th>\n",
       "    </tr>\n",
       "  </thead>\n",
       "  <tbody>\n",
       "    <tr>\n",
       "      <th>0</th>\n",
       "      <td>299000</td>\n",
       "      <td>2017</td>\n",
       "      <td>1</td>\n",
       "      <td>1</td>\n",
       "      <td>1</td>\n",
       "      <td>2</td>\n",
       "    </tr>\n",
       "    <tr>\n",
       "      <th>1</th>\n",
       "      <td>1275000</td>\n",
       "      <td>2014</td>\n",
       "      <td>3</td>\n",
       "      <td>3</td>\n",
       "      <td>4</td>\n",
       "      <td>2</td>\n",
       "    </tr>\n",
       "    <tr>\n",
       "      <th>2</th>\n",
       "      <td>549000</td>\n",
       "      <td>1900</td>\n",
       "      <td>6</td>\n",
       "      <td>2</td>\n",
       "      <td>2</td>\n",
       "      <td>2</td>\n",
       "    </tr>\n",
       "    <tr>\n",
       "      <th>3</th>\n",
       "      <td>360500</td>\n",
       "      <td>2024</td>\n",
       "      <td>&lt;NA&gt;</td>\n",
       "      <td>&lt;NA&gt;</td>\n",
       "      <td>&lt;NA&gt;</td>\n",
       "      <td>&lt;NA&gt;</td>\n",
       "    </tr>\n",
       "    <tr>\n",
       "      <th>4</th>\n",
       "      <td>845000</td>\n",
       "      <td>1896</td>\n",
       "      <td>3</td>\n",
       "      <td>1</td>\n",
       "      <td>2</td>\n",
       "      <td>2</td>\n",
       "    </tr>\n",
       "  </tbody>\n",
       "</table>\n",
       "</div>"
      ],
      "text/plain": [
       "      Prix  Année_de_construction  Nombre_de_chambres_à_coucher  Nombre_de_salles_de_bain  Nombre_de_toilettes  Nombre_de_façades\n",
       "0   299000                   2017                             1                         1                    1                  2\n",
       "1  1275000                   2014                             3                         3                    4                  2\n",
       "2   549000                   1900                             6                         2                    2                  2\n",
       "3   360500                   2024                          <NA>                      <NA>                 <NA>               <NA>\n",
       "4   845000                   1896                             3                         1                    2                  2"
      ]
     },
     "execution_count": 12,
     "metadata": {},
     "output_type": "execute_result"
    }
   ],
   "source": [
    "df[numeric_cols].head()"
   ]
  },
  {
   "cell_type": "markdown",
   "id": "64679794-94c1-4e31-a557-46b7666f36ee",
   "metadata": {},
   "source": [
    "All numeric variables seems to be correct and relevant for the goal of the project"
   ]
  },
  {
   "cell_type": "code",
   "execution_count": 13,
   "id": "24e3a1c6-3228-4a55-bd28-5c8f92309bd2",
   "metadata": {},
   "outputs": [
    {
     "data": {
      "text/html": [
       "<div>\n",
       "<style scoped>\n",
       "    .dataframe tbody tr th:only-of-type {\n",
       "        vertical-align: middle;\n",
       "    }\n",
       "\n",
       "    .dataframe tbody tr th {\n",
       "        vertical-align: top;\n",
       "    }\n",
       "\n",
       "    .dataframe thead th {\n",
       "        text-align: right;\n",
       "    }\n",
       "</style>\n",
       "<table border=\"1\" class=\"dataframe\">\n",
       "  <thead>\n",
       "    <tr style=\"text-align: right;\">\n",
       "      <th></th>\n",
       "      <th>ad_link</th>\n",
       "      <th>Ref</th>\n",
       "      <th>Titre</th>\n",
       "      <th>Addresse</th>\n",
       "      <th>Localite</th>\n",
       "      <th>Etat_du_bien</th>\n",
       "      <th>Surface_habitable</th>\n",
       "      <th>Meublé</th>\n",
       "      <th>Caves</th>\n",
       "      <th>Type_de_chauffage</th>\n",
       "      <th>Ascenseur</th>\n",
       "      <th>Raccordé_à_leau_courante</th>\n",
       "      <th>Conso_spécifique_dénergie_primaire</th>\n",
       "      <th>Attestation__Installation_électrique</th>\n",
       "      <th>Type_de_zone_inondable</th>\n",
       "      <th>Zone_inondable_délimitée</th>\n",
       "      <th>Terrasse_aménagée</th>\n",
       "      <th>Grenier</th>\n",
       "      <th>Surface_totale_du_terrain</th>\n",
       "      <th>Jardin</th>\n",
       "    </tr>\n",
       "  </thead>\n",
       "  <tbody>\n",
       "    <tr>\n",
       "      <th>0</th>\n",
       "      <td>https://immovlan.be/fr/detail/duplex/a-vendre/1000/bruxelles/vbc89694</td>\n",
       "      <td>VBC89694</td>\n",
       "      <td>Duplex à vendre</td>\n",
       "      <td>Rue une Personne 8</td>\n",
       "      <td>1000 Bruxelles</td>\n",
       "      <td>Excellent</td>\n",
       "      <td>55 m²</td>\n",
       "      <td>Non</td>\n",
       "      <td>Oui</td>\n",
       "      <td>Gaz</td>\n",
       "      <td>Oui</td>\n",
       "      <td>Oui</td>\n",
       "      <td>119 kWh/m²/an</td>\n",
       "      <td>oui, attestation conforme</td>\n",
       "      <td>Pas de risque d’inondation</td>\n",
       "      <td>Information non communiquée</td>\n",
       "      <td>NaN</td>\n",
       "      <td>NaN</td>\n",
       "      <td>NaN</td>\n",
       "      <td>NaN</td>\n",
       "    </tr>\n",
       "    <tr>\n",
       "      <th>1</th>\n",
       "      <td>https://immovlan.be/fr/detail/appartement/a-vendre/1000/bruxelles/vbc89261</td>\n",
       "      <td>VBC89261</td>\n",
       "      <td>Appartement à vendre</td>\n",
       "      <td>Quai des Péniches 69 27A</td>\n",
       "      <td>1000 Bruxelles</td>\n",
       "      <td>Excellent</td>\n",
       "      <td>219 m²</td>\n",
       "      <td>Oui</td>\n",
       "      <td>Oui</td>\n",
       "      <td>Gaz</td>\n",
       "      <td>Oui</td>\n",
       "      <td>NaN</td>\n",
       "      <td>NaN</td>\n",
       "      <td>NaN</td>\n",
       "      <td>Information non communiquée</td>\n",
       "      <td>Information non communiquée</td>\n",
       "      <td>Oui</td>\n",
       "      <td>NaN</td>\n",
       "      <td>NaN</td>\n",
       "      <td>NaN</td>\n",
       "    </tr>\n",
       "    <tr>\n",
       "      <th>2</th>\n",
       "      <td>https://immovlan.be/fr/detail/maison/a-vendre/1000/bruxelles/vbc87245</td>\n",
       "      <td>VBC87245</td>\n",
       "      <td>Maison à vendre</td>\n",
       "      <td>Rue des Fabriques 15</td>\n",
       "      <td>1000 Bruxelles</td>\n",
       "      <td>À rénover</td>\n",
       "      <td>365 m²</td>\n",
       "      <td>NaN</td>\n",
       "      <td>NaN</td>\n",
       "      <td>Gaz</td>\n",
       "      <td>Non</td>\n",
       "      <td>Oui</td>\n",
       "      <td>798 kWh/m²/an</td>\n",
       "      <td>oui, attestation non conforme</td>\n",
       "      <td>Pas de risque d’inondation</td>\n",
       "      <td>Information non communiquée</td>\n",
       "      <td>Oui</td>\n",
       "      <td>Oui</td>\n",
       "      <td>136 m²</td>\n",
       "      <td>NaN</td>\n",
       "    </tr>\n",
       "    <tr>\n",
       "      <th>3</th>\n",
       "      <td>https://immovlan.be/fr/detail/penthouse/a-vendre/1000/bruxelles/rbt73168</td>\n",
       "      <td>RBT73168</td>\n",
       "      <td>Penthouse à vendre</td>\n",
       "      <td>Congresstraat 17</td>\n",
       "      <td>1000 Bruxelles</td>\n",
       "      <td>NaN</td>\n",
       "      <td>NaN</td>\n",
       "      <td>NaN</td>\n",
       "      <td>Non</td>\n",
       "      <td>NaN</td>\n",
       "      <td>NaN</td>\n",
       "      <td>NaN</td>\n",
       "      <td>NaN</td>\n",
       "      <td>non, pas d'attestation</td>\n",
       "      <td>Information non communiquée</td>\n",
       "      <td>Information non communiquée</td>\n",
       "      <td>NaN</td>\n",
       "      <td>Non</td>\n",
       "      <td>NaN</td>\n",
       "      <td>NaN</td>\n",
       "    </tr>\n",
       "    <tr>\n",
       "      <th>4</th>\n",
       "      <td>https://immovlan.be/fr/detail/appartement/a-vendre/1000/bruxelles/vbc91915</td>\n",
       "      <td>VBC91915</td>\n",
       "      <td>Appartement à vendre</td>\n",
       "      <td>NaN</td>\n",
       "      <td>1000 Bruxelles</td>\n",
       "      <td>NaN</td>\n",
       "      <td>315 m²</td>\n",
       "      <td>Non</td>\n",
       "      <td>Non</td>\n",
       "      <td>Gaz</td>\n",
       "      <td>Oui</td>\n",
       "      <td>Oui</td>\n",
       "      <td>249 kWh/m²/an</td>\n",
       "      <td>pas d'application</td>\n",
       "      <td>Information non communiquée</td>\n",
       "      <td>Information non communiquée</td>\n",
       "      <td>Oui</td>\n",
       "      <td>Non</td>\n",
       "      <td>NaN</td>\n",
       "      <td>NaN</td>\n",
       "    </tr>\n",
       "  </tbody>\n",
       "</table>\n",
       "</div>"
      ],
      "text/plain": [
       "                                                                      ad_link       Ref                 Titre                  Addresse        Localite Etat_du_bien Surface_habitable Meublé Caves Type_de_chauffage Ascenseur Raccordé_à_leau_courante Conso_spécifique_dénergie_primaire Attestation__Installation_électrique       Type_de_zone_inondable     Zone_inondable_délimitée Terrasse_aménagée Grenier Surface_totale_du_terrain Jardin\n",
       "0       https://immovlan.be/fr/detail/duplex/a-vendre/1000/bruxelles/vbc89694  VBC89694       Duplex à vendre        Rue une Personne 8  1000 Bruxelles    Excellent             55 m²    Non   Oui               Gaz       Oui                      Oui                      119 kWh/m²/an            oui, attestation conforme   Pas de risque d’inondation  Information non communiquée               NaN     NaN                       NaN    NaN\n",
       "1  https://immovlan.be/fr/detail/appartement/a-vendre/1000/bruxelles/vbc89261  VBC89261  Appartement à vendre  Quai des Péniches 69 27A  1000 Bruxelles    Excellent            219 m²    Oui   Oui               Gaz       Oui                      NaN                                NaN                                  NaN  Information non communiquée  Information non communiquée               Oui     NaN                       NaN    NaN\n",
       "2       https://immovlan.be/fr/detail/maison/a-vendre/1000/bruxelles/vbc87245  VBC87245       Maison à vendre      Rue des Fabriques 15  1000 Bruxelles    À rénover            365 m²    NaN   NaN               Gaz       Non                      Oui                      798 kWh/m²/an        oui, attestation non conforme   Pas de risque d’inondation  Information non communiquée               Oui     Oui                    136 m²    NaN\n",
       "3    https://immovlan.be/fr/detail/penthouse/a-vendre/1000/bruxelles/rbt73168  RBT73168    Penthouse à vendre          Congresstraat 17  1000 Bruxelles          NaN               NaN    NaN   Non               NaN       NaN                      NaN                                NaN               non, pas d'attestation  Information non communiquée  Information non communiquée               NaN     Non                       NaN    NaN\n",
       "4  https://immovlan.be/fr/detail/appartement/a-vendre/1000/bruxelles/vbc91915  VBC91915  Appartement à vendre                       NaN  1000 Bruxelles          NaN            315 m²    Non   Non               Gaz       Oui                      Oui                      249 kWh/m²/an                    pas d'application  Information non communiquée  Information non communiquée               Oui     Non                       NaN    NaN"
      ]
     },
     "execution_count": 13,
     "metadata": {},
     "output_type": "execute_result"
    }
   ],
   "source": [
    "df[categoric_cols].head()"
   ]
  },
  {
   "cell_type": "code",
   "execution_count": 14,
   "id": "5b0e755e-cb9d-4114-8dec-0cf0d1ab9c16",
   "metadata": {},
   "outputs": [],
   "source": [
    "# Remove 'à vendre' from the values and rename the column to Type_du_bien\n",
    "df['Titre'] = df['Titre'].str.replace('à vendre', '', regex=False).str.strip()\n",
    "df = df.rename(columns={'Titre': 'Type_du_bien'})"
   ]
  },
  {
   "cell_type": "code",
   "execution_count": 15,
   "id": "6be858dd-1ba4-49e3-854f-8ff20aba5b75",
   "metadata": {},
   "outputs": [],
   "source": [
    "# Split column localite into zip and localite\n",
    "df['Zip'] = df['ad_link'].str.extract(r'/a-vendre/(\\d{4})/')[0]\n",
    "df['Localite'] = df['ad_link'].str.extract(r'/a-vendre/\\d{4}/([^/]+)/')[0].str.capitalize()"
   ]
  },
  {
   "cell_type": "markdown",
   "id": "26c24d78-1334-474b-81d5-c7af191f9c24",
   "metadata": {},
   "source": [
    "Confirm that below columns are binary (Oui/Non) and then transform them"
   ]
  },
  {
   "cell_type": "code",
   "execution_count": 16,
   "id": "1da6a1dc-20ae-44f4-9d61-5ca8c7016b79",
   "metadata": {},
   "outputs": [
    {
     "data": {
      "text/plain": [
       "Meublé\n",
       "Non    8875\n",
       "Oui     475\n",
       "Name: count, dtype: int64"
      ]
     },
     "execution_count": 16,
     "metadata": {},
     "output_type": "execute_result"
    },
    {
     "data": {
      "text/plain": [
       "Caves\n",
       "Non    5459\n",
       "Oui    4100\n",
       "Name: count, dtype: int64"
      ]
     },
     "execution_count": 16,
     "metadata": {},
     "output_type": "execute_result"
    },
    {
     "data": {
      "text/plain": [
       "Ascenseur\n",
       "Non    8380\n",
       "Oui    3653\n",
       "Name: count, dtype: int64"
      ]
     },
     "execution_count": 16,
     "metadata": {},
     "output_type": "execute_result"
    },
    {
     "data": {
      "text/plain": [
       "Raccordé_à_leau_courante\n",
       "Oui    8490\n",
       "Non      27\n",
       "Name: count, dtype: int64"
      ]
     },
     "execution_count": 16,
     "metadata": {},
     "output_type": "execute_result"
    },
    {
     "data": {
      "text/plain": [
       "Terrasse_aménagée\n",
       "Oui    11748\n",
       "Non      585\n",
       "Name: count, dtype: int64"
      ]
     },
     "execution_count": 16,
     "metadata": {},
     "output_type": "execute_result"
    },
    {
     "data": {
      "text/plain": [
       "Grenier\n",
       "Oui    5281\n",
       "Non    4074\n",
       "Name: count, dtype: int64"
      ]
     },
     "execution_count": 16,
     "metadata": {},
     "output_type": "execute_result"
    },
    {
     "data": {
      "text/plain": [
       "Jardin\n",
       "Oui    9434\n",
       "Non     861\n",
       "Name: count, dtype: int64"
      ]
     },
     "execution_count": 16,
     "metadata": {},
     "output_type": "execute_result"
    }
   ],
   "source": [
    "cols = ['Meublé', 'Caves', 'Ascenseur', 'Raccordé_à_leau_courante','Terrasse_aménagée', 'Grenier', 'Jardin']\n",
    "for c in cols:\n",
    "    df[c].value_counts()"
   ]
  },
  {
   "cell_type": "code",
   "execution_count": 17,
   "id": "7ed6ac5d-9f11-4a44-8d13-5cd44d56e2a0",
   "metadata": {},
   "outputs": [],
   "source": [
    "for c in cols:\n",
    "    df[c] = df[c].map({'Oui': 1, 'Non': 0})"
   ]
  },
  {
   "cell_type": "markdown",
   "id": "efbf323b-b02e-44a9-a2aa-cbc35bd074a2",
   "metadata": {},
   "source": [
    "### FINAL DATAFRAME"
   ]
  },
  {
   "cell_type": "code",
   "execution_count": 21,
   "id": "395b4fa9-00a6-409c-a47e-183a2485fb04",
   "metadata": {},
   "outputs": [
    {
     "data": {
      "text/html": [
       "<div>\n",
       "<style scoped>\n",
       "    .dataframe tbody tr th:only-of-type {\n",
       "        vertical-align: middle;\n",
       "    }\n",
       "\n",
       "    .dataframe tbody tr th {\n",
       "        vertical-align: top;\n",
       "    }\n",
       "\n",
       "    .dataframe thead th {\n",
       "        text-align: right;\n",
       "    }\n",
       "</style>\n",
       "<table border=\"1\" class=\"dataframe\">\n",
       "  <thead>\n",
       "    <tr style=\"text-align: right;\">\n",
       "      <th></th>\n",
       "      <th>ad_link</th>\n",
       "      <th>Ref</th>\n",
       "      <th>Type_du_bien</th>\n",
       "      <th>Prix</th>\n",
       "      <th>Addresse</th>\n",
       "      <th>Localite</th>\n",
       "      <th>Etat_du_bien</th>\n",
       "      <th>Année_de_construction</th>\n",
       "      <th>Nombre_de_chambres_à_coucher</th>\n",
       "      <th>Surface_habitable</th>\n",
       "      <th>Meublé</th>\n",
       "      <th>Caves</th>\n",
       "      <th>Nombre_de_salles_de_bain</th>\n",
       "      <th>Nombre_de_toilettes</th>\n",
       "      <th>Type_de_chauffage</th>\n",
       "      <th>Ascenseur</th>\n",
       "      <th>Nombre_de_façades</th>\n",
       "      <th>Raccordé_à_leau_courante</th>\n",
       "      <th>Conso_spécifique_dénergie_primaire</th>\n",
       "      <th>Attestation__Installation_électrique</th>\n",
       "      <th>Type_de_zone_inondable</th>\n",
       "      <th>Zone_inondable_délimitée</th>\n",
       "      <th>Terrasse_aménagée</th>\n",
       "      <th>Grenier</th>\n",
       "      <th>Surface_totale_du_terrain</th>\n",
       "      <th>Jardin</th>\n",
       "      <th>Zip</th>\n",
       "    </tr>\n",
       "  </thead>\n",
       "  <tbody>\n",
       "    <tr>\n",
       "      <th>0</th>\n",
       "      <td>https://immovlan.be/fr/detail/duplex/a-vendre/1000/bruxelles/vbc89694</td>\n",
       "      <td>VBC89694</td>\n",
       "      <td>Duplex</td>\n",
       "      <td>299000</td>\n",
       "      <td>Rue une Personne 8</td>\n",
       "      <td>Bruxelles</td>\n",
       "      <td>Excellent</td>\n",
       "      <td>2017</td>\n",
       "      <td>1</td>\n",
       "      <td>55 m²</td>\n",
       "      <td>0</td>\n",
       "      <td>1</td>\n",
       "      <td>1</td>\n",
       "      <td>1</td>\n",
       "      <td>Gaz</td>\n",
       "      <td>1</td>\n",
       "      <td>2</td>\n",
       "      <td>1</td>\n",
       "      <td>119 kWh/m²/an</td>\n",
       "      <td>oui, attestation conforme</td>\n",
       "      <td>Pas de risque d’inondation</td>\n",
       "      <td>Information non communiquée</td>\n",
       "      <td>NaN</td>\n",
       "      <td>NaN</td>\n",
       "      <td>NaN</td>\n",
       "      <td>NaN</td>\n",
       "      <td>1000</td>\n",
       "    </tr>\n",
       "    <tr>\n",
       "      <th>1</th>\n",
       "      <td>https://immovlan.be/fr/detail/appartement/a-vendre/1000/bruxelles/vbc89261</td>\n",
       "      <td>VBC89261</td>\n",
       "      <td>Appartement</td>\n",
       "      <td>1275000</td>\n",
       "      <td>Quai des Péniches 69 27A</td>\n",
       "      <td>Bruxelles</td>\n",
       "      <td>Excellent</td>\n",
       "      <td>2014</td>\n",
       "      <td>3</td>\n",
       "      <td>219 m²</td>\n",
       "      <td>1</td>\n",
       "      <td>1</td>\n",
       "      <td>3</td>\n",
       "      <td>4</td>\n",
       "      <td>Gaz</td>\n",
       "      <td>1</td>\n",
       "      <td>2</td>\n",
       "      <td>NaN</td>\n",
       "      <td>NaN</td>\n",
       "      <td>NaN</td>\n",
       "      <td>Information non communiquée</td>\n",
       "      <td>Information non communiquée</td>\n",
       "      <td>1</td>\n",
       "      <td>NaN</td>\n",
       "      <td>NaN</td>\n",
       "      <td>NaN</td>\n",
       "      <td>1000</td>\n",
       "    </tr>\n",
       "    <tr>\n",
       "      <th>2</th>\n",
       "      <td>https://immovlan.be/fr/detail/maison/a-vendre/1000/bruxelles/vbc87245</td>\n",
       "      <td>VBC87245</td>\n",
       "      <td>Maison</td>\n",
       "      <td>549000</td>\n",
       "      <td>Rue des Fabriques 15</td>\n",
       "      <td>Bruxelles</td>\n",
       "      <td>À rénover</td>\n",
       "      <td>1900</td>\n",
       "      <td>6</td>\n",
       "      <td>365 m²</td>\n",
       "      <td>NaN</td>\n",
       "      <td>NaN</td>\n",
       "      <td>2</td>\n",
       "      <td>2</td>\n",
       "      <td>Gaz</td>\n",
       "      <td>0</td>\n",
       "      <td>2</td>\n",
       "      <td>1</td>\n",
       "      <td>798 kWh/m²/an</td>\n",
       "      <td>oui, attestation non conforme</td>\n",
       "      <td>Pas de risque d’inondation</td>\n",
       "      <td>Information non communiquée</td>\n",
       "      <td>1</td>\n",
       "      <td>1</td>\n",
       "      <td>136 m²</td>\n",
       "      <td>NaN</td>\n",
       "      <td>1000</td>\n",
       "    </tr>\n",
       "    <tr>\n",
       "      <th>3</th>\n",
       "      <td>https://immovlan.be/fr/detail/penthouse/a-vendre/1000/bruxelles/rbt73168</td>\n",
       "      <td>RBT73168</td>\n",
       "      <td>Penthouse</td>\n",
       "      <td>360500</td>\n",
       "      <td>Congresstraat 17</td>\n",
       "      <td>Bruxelles</td>\n",
       "      <td>NaN</td>\n",
       "      <td>2024</td>\n",
       "      <td>&lt;NA&gt;</td>\n",
       "      <td>NaN</td>\n",
       "      <td>NaN</td>\n",
       "      <td>0</td>\n",
       "      <td>&lt;NA&gt;</td>\n",
       "      <td>&lt;NA&gt;</td>\n",
       "      <td>NaN</td>\n",
       "      <td>NaN</td>\n",
       "      <td>&lt;NA&gt;</td>\n",
       "      <td>NaN</td>\n",
       "      <td>NaN</td>\n",
       "      <td>non, pas d'attestation</td>\n",
       "      <td>Information non communiquée</td>\n",
       "      <td>Information non communiquée</td>\n",
       "      <td>NaN</td>\n",
       "      <td>0</td>\n",
       "      <td>NaN</td>\n",
       "      <td>NaN</td>\n",
       "      <td>1000</td>\n",
       "    </tr>\n",
       "    <tr>\n",
       "      <th>4</th>\n",
       "      <td>https://immovlan.be/fr/detail/appartement/a-vendre/1000/bruxelles/vbc91915</td>\n",
       "      <td>VBC91915</td>\n",
       "      <td>Appartement</td>\n",
       "      <td>845000</td>\n",
       "      <td>NaN</td>\n",
       "      <td>Bruxelles</td>\n",
       "      <td>NaN</td>\n",
       "      <td>1896</td>\n",
       "      <td>3</td>\n",
       "      <td>315 m²</td>\n",
       "      <td>0</td>\n",
       "      <td>0</td>\n",
       "      <td>1</td>\n",
       "      <td>2</td>\n",
       "      <td>Gaz</td>\n",
       "      <td>1</td>\n",
       "      <td>2</td>\n",
       "      <td>1</td>\n",
       "      <td>249 kWh/m²/an</td>\n",
       "      <td>pas d'application</td>\n",
       "      <td>Information non communiquée</td>\n",
       "      <td>Information non communiquée</td>\n",
       "      <td>1</td>\n",
       "      <td>0</td>\n",
       "      <td>NaN</td>\n",
       "      <td>NaN</td>\n",
       "      <td>1000</td>\n",
       "    </tr>\n",
       "  </tbody>\n",
       "</table>\n",
       "</div>"
      ],
      "text/plain": [
       "                                                                      ad_link       Ref Type_du_bien     Prix                  Addresse   Localite Etat_du_bien  Année_de_construction  Nombre_de_chambres_à_coucher Surface_habitable Meublé Caves  Nombre_de_salles_de_bain  Nombre_de_toilettes Type_de_chauffage Ascenseur  Nombre_de_façades Raccordé_à_leau_courante Conso_spécifique_dénergie_primaire Attestation__Installation_électrique       Type_de_zone_inondable     Zone_inondable_délimitée Terrasse_aménagée Grenier Surface_totale_du_terrain Jardin   Zip\n",
       "0       https://immovlan.be/fr/detail/duplex/a-vendre/1000/bruxelles/vbc89694  VBC89694       Duplex   299000        Rue une Personne 8  Bruxelles    Excellent                   2017                             1             55 m²      0     1                         1                    1               Gaz         1                  2                        1                      119 kWh/m²/an            oui, attestation conforme   Pas de risque d’inondation  Information non communiquée               NaN     NaN                       NaN    NaN  1000\n",
       "1  https://immovlan.be/fr/detail/appartement/a-vendre/1000/bruxelles/vbc89261  VBC89261  Appartement  1275000  Quai des Péniches 69 27A  Bruxelles    Excellent                   2014                             3            219 m²      1     1                         3                    4               Gaz         1                  2                      NaN                                NaN                                  NaN  Information non communiquée  Information non communiquée                 1     NaN                       NaN    NaN  1000\n",
       "2       https://immovlan.be/fr/detail/maison/a-vendre/1000/bruxelles/vbc87245  VBC87245       Maison   549000      Rue des Fabriques 15  Bruxelles    À rénover                   1900                             6            365 m²    NaN   NaN                         2                    2               Gaz         0                  2                        1                      798 kWh/m²/an        oui, attestation non conforme   Pas de risque d’inondation  Information non communiquée                 1       1                    136 m²    NaN  1000\n",
       "3    https://immovlan.be/fr/detail/penthouse/a-vendre/1000/bruxelles/rbt73168  RBT73168    Penthouse   360500          Congresstraat 17  Bruxelles          NaN                   2024                          <NA>               NaN    NaN     0                      <NA>                 <NA>               NaN       NaN               <NA>                      NaN                                NaN               non, pas d'attestation  Information non communiquée  Information non communiquée               NaN       0                       NaN    NaN  1000\n",
       "4  https://immovlan.be/fr/detail/appartement/a-vendre/1000/bruxelles/vbc91915  VBC91915  Appartement   845000                       NaN  Bruxelles          NaN                   1896                             3            315 m²      0     0                         1                    2               Gaz         1                  2                        1                      249 kWh/m²/an                    pas d'application  Information non communiquée  Information non communiquée                 1       0                       NaN    NaN  1000"
      ]
     },
     "execution_count": 21,
     "metadata": {},
     "output_type": "execute_result"
    }
   ],
   "source": [
    "df.head()"
   ]
  },
  {
   "cell_type": "code",
   "execution_count": 22,
   "id": "51a60277-184a-408c-8bd3-ad86ae20c0ce",
   "metadata": {},
   "outputs": [
    {
     "data": {
      "text/plain": [
       "(16686, 27)"
      ]
     },
     "execution_count": 22,
     "metadata": {},
     "output_type": "execute_result"
    }
   ],
   "source": [
    "df.shape"
   ]
  },
  {
   "cell_type": "code",
   "execution_count": 23,
   "id": "6d2057e2-ecd0-40aa-ba3a-10b7d3bcd3d4",
   "metadata": {},
   "outputs": [
    {
     "name": "stdout",
     "output_type": "stream",
     "text": [
      "<class 'pandas.core.frame.DataFrame'>\n",
      "Index: 16686 entries, 0 to 35311\n",
      "Data columns (total 27 columns):\n",
      " #   Column                                Non-Null Count  Dtype   \n",
      "---  ------                                --------------  -----   \n",
      " 0   ad_link                               16686 non-null  category\n",
      " 1   Ref                                   16686 non-null  category\n",
      " 2   Type_du_bien                          16686 non-null  object  \n",
      " 3   Prix                                  16686 non-null  Int32   \n",
      " 4   Addresse                              13419 non-null  category\n",
      " 5   Localite                              16686 non-null  object  \n",
      " 6   Etat_du_bien                          12724 non-null  category\n",
      " 7   Année_de_construction                 10276 non-null  Int32   \n",
      " 8   Nombre_de_chambres_à_coucher          16340 non-null  Int32   \n",
      " 9   Surface_habitable                     15497 non-null  category\n",
      " 10  Meublé                                9350 non-null   category\n",
      " 11  Caves                                 9559 non-null   category\n",
      " 12  Nombre_de_salles_de_bain              14623 non-null  Int32   \n",
      " 13  Nombre_de_toilettes                   11324 non-null  Int32   \n",
      " 14  Type_de_chauffage                     11945 non-null  category\n",
      " 15  Ascenseur                             12033 non-null  category\n",
      " 16  Nombre_de_façades                     12328 non-null  Int32   \n",
      " 17  Raccordé_à_leau_courante              8517 non-null   category\n",
      " 18  Conso_spécifique_dénergie_primaire    12906 non-null  category\n",
      " 19  Attestation__Installation_électrique  12261 non-null  category\n",
      " 20  Type_de_zone_inondable                16686 non-null  category\n",
      " 21  Zone_inondable_délimitée              16686 non-null  category\n",
      " 22  Terrasse_aménagée                     12333 non-null  category\n",
      " 23  Grenier                               9355 non-null   category\n",
      " 24  Surface_totale_du_terrain             8672 non-null   category\n",
      " 25  Jardin                                10295 non-null  category\n",
      " 26  Zip                                   16686 non-null  object  \n",
      "dtypes: Int32(6), category(18), object(3)\n",
      "memory usage: 3.1+ MB\n"
     ]
    }
   ],
   "source": [
    "df.info()"
   ]
  },
  {
   "cell_type": "markdown",
   "id": "98db902e-a3de-48e8-a602-036b381b2234",
   "metadata": {},
   "source": [
    "The final dataframe shows:\n",
    "- 16686 records\n",
    "- 27 variables"
   ]
  },
  {
   "cell_type": "code",
   "execution_count": 25,
   "id": "9d8b08a3-ecbe-4948-9613-6774d5f55fb3",
   "metadata": {},
   "outputs": [],
   "source": [
    "# Saving the dataframe as immovlan_properties_FINAL.csv\n",
    "file_name = f\"immovlan_properties_FINAL.csv\"\n",
    "df.to_csv(file_name, index=False, encoding=\"utf-8-sig\")"
   ]
  }
 ],
 "metadata": {
  "kernelspec": {
   "display_name": "Python 3 (ipykernel)",
   "language": "python",
   "name": "python3"
  },
  "language_info": {
   "codemirror_mode": {
    "name": "ipython",
    "version": 3
   },
   "file_extension": ".py",
   "mimetype": "text/x-python",
   "name": "python",
   "nbconvert_exporter": "python",
   "pygments_lexer": "ipython3",
   "version": "3.11.7"
  }
 },
 "nbformat": 4,
 "nbformat_minor": 5
}
